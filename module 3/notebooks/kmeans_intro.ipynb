{
  "nbformat": 4,
  "nbformat_minor": 0,
  "metadata": {
    "kernelspec": {
      "display_name": "Python 3",
      "language": "python",
      "name": "python3"
    },
    "language_info": {
      "codemirror_mode": {
        "name": "ipython",
        "version": 3
      },
      "file_extension": ".py",
      "mimetype": "text/x-python",
      "name": "python",
      "nbconvert_exporter": "python",
      "pygments_lexer": "ipython3",
      "version": "3.8.3"
    },
    "colab": {
      "name": "kmeans_intro.ipynb",
      "provenance": [],
      "collapsed_sections": []
    }
  },
  "cells": [
    {
      "cell_type": "markdown",
      "metadata": {
        "id": "_kxUoNSN_KfU"
      },
      "source": [
        "# K-Means Clustering"
      ]
    },
    {
      "cell_type": "markdown",
      "metadata": {
        "id": "AVcKiJ5-_KfY"
      },
      "source": [
        "Based on [this](https://blog.floydhub.com/introduction-to-k-means-clustering-in-python-with-scikit-learn/)."
      ]
    },
    {
      "cell_type": "code",
      "metadata": {
        "id": "66HE2nbx_KfY"
      },
      "source": [
        "from sklearn.datasets import make_blobs\n",
        "import matplotlib.pyplot as plt\n",
        "from sklearn.cluster import KMeans"
      ],
      "execution_count": 1,
      "outputs": []
    },
    {
      "cell_type": "markdown",
      "metadata": {
        "id": "ovbOffM1_Kfa"
      },
      "source": [
        "## Small 2D set"
      ]
    },
    {
      "cell_type": "code",
      "metadata": {
        "id": "RgTyOaKA_Kfb"
      },
      "source": [
        "#Generate a small 2D dataset\n",
        "X, y = make_blobs(n_samples=10, centers=3, cluster_std=0.60, random_state=0)"
      ],
      "execution_count": 2,
      "outputs": []
    },
    {
      "cell_type": "code",
      "metadata": {
        "id": "PZqXTTsY_Kfb",
        "outputId": "691f676b-24f1-4433-9f8f-7ff2a0d64cbc"
      },
      "source": [
        "#Plot the data set\n",
        "plt.scatter(X[:,0], X[:,1])"
      ],
      "execution_count": null,
      "outputs": [
        {
          "data": {
            "text/plain": [
              "<matplotlib.collections.PathCollection at 0x19c64a04b08>"
            ]
          },
          "execution_count": 3,
          "metadata": {},
          "output_type": "execute_result"
        },
        {
          "data": {
            "image/png": "[encoded data removed]",
            "text/plain": [
              "<Figure size 432x288 with 1 Axes>"
            ]
          },
          "metadata": {
            "needs_background": "light"
          },
          "output_type": "display_data"
        }
      ]
    },
    {
      "cell_type": "code",
      "metadata": {
        "id": "3T8lF4Tx_Kfd"
      },
      "source": [
        "# Perform K-Means clustering    \n",
        "# Specify the number of clusters (3) and fit the data X\n",
        "kmeans = KMeans(n_clusters=3, random_state=0).fit(X)"
      ],
      "execution_count": null,
      "outputs": []
    },
    {
      "cell_type": "code",
      "metadata": {
        "id": "kf1r33mA_Kfd",
        "outputId": "38460e7a-a314-4b6c-9b8d-cddd7128ed3b"
      },
      "source": [
        "# Get the cluster centroids\n",
        "print(kmeans.cluster_centers_)"
      ],
      "execution_count": null,
      "outputs": [
        {
          "name": "stdout",
          "output_type": "stream",
          "text": [
            "[[-1.41066381  2.60929984]\n",
            " [ 2.50546952  0.75254772]\n",
            " [ 1.23906271  4.5790658 ]]\n"
          ]
        }
      ]
    },
    {
      "cell_type": "code",
      "metadata": {
        "id": "9QxzypzK_Kfe",
        "outputId": "95163a48-23a7-4e97-f2e5-ed96afab5d97"
      },
      "source": [
        "# Get the cluster labels\n",
        "print(kmeans.labels_)"
      ],
      "execution_count": null,
      "outputs": [
        {
          "name": "stdout",
          "output_type": "stream",
          "text": [
            "[2 2 1 2 0 0 0 1 1 2]\n"
          ]
        }
      ]
    },
    {
      "cell_type": "code",
      "metadata": {
        "id": "gSoLFnNN_Kff",
        "outputId": "5b7b3fae-a7fb-4464-f805-208bf4833491"
      },
      "source": [
        "# Plotting the cluster centers and the data points\n",
        "plt.scatter(X[:, 0], X[:, -1])\n",
        "    \n",
        "plt.scatter(kmeans.cluster_centers_[:, 0], kmeans.cluster_centers_[:, 1], c='red', marker='x')\n",
        "    \n",
        "plt.title('Data points and cluster centroids')\n",
        "plt.show()"
      ],
      "execution_count": null,
      "outputs": [
        {
          "data": {
            "image/png": "[encoded data removed]",
            "text/plain": [
              "<Figure size 432x288 with 1 Axes>"
            ]
          },
          "metadata": {
            "needs_background": "light"
          },
          "output_type": "display_data"
        }
      ]
    },
    {
      "cell_type": "markdown",
      "metadata": {
        "id": "XNcWRrii_Kfg"
      },
      "source": [
        "## Bigger 2D set"
      ]
    },
    {
      "cell_type": "code",
      "metadata": {
        "id": "tDZdAgUr_Kfg"
      },
      "source": [
        "#Generate a bigger 2D data set\n",
        "X, y = make_blobs(n_samples=300, centers=4, cluster_std=0.60, random_state=0)"
      ],
      "execution_count": null,
      "outputs": []
    },
    {
      "cell_type": "code",
      "metadata": {
        "id": "CL5oT9-u_Kfg",
        "outputId": "620de4f3-59e6-4473-8362-d6acf334329a"
      },
      "source": [
        "#Plot it\n",
        "plt.scatter(X[:,0], X[:,1])"
      ],
      "execution_count": null,
      "outputs": [
        {
          "data": {
            "text/plain": [
              "<matplotlib.collections.PathCollection at 0x19c6673f188>"
            ]
          },
          "execution_count": 9,
          "metadata": {},
          "output_type": "execute_result"
        },
        {
          "data": {
            "image/png": "[encoded data removed]",
            "text/plain": [
              "<Figure size 432x288 with 1 Axes>"
            ]
          },
          "metadata": {
            "needs_background": "light"
          },
          "output_type": "display_data"
        }
      ]
    },
    {
      "cell_type": "code",
      "metadata": {
        "id": "SLSTsq9I_Kfh"
      },
      "source": [
        "# Specify the number of clusters (4) and fit the data X\n",
        "kmeans = KMeans(n_clusters=4, random_state=0).fit(X)"
      ],
      "execution_count": null,
      "outputs": []
    },
    {
      "cell_type": "code",
      "metadata": {
        "id": "jwSQxW7F_Kfh",
        "outputId": "3e41243e-38f2-4476-91aa-2105952dd85e"
      },
      "source": [
        "# Plotting the cluster centers and the data points on a 2D plane\n",
        "plt.scatter(X[:, 0], X[:, -1])\n",
        "    \n",
        "plt.scatter(kmeans.cluster_centers_[:, 0], kmeans.cluster_centers_[:, 1], c='red', marker='x')\n",
        "    \n",
        "plt.title('Data points and cluster centroids')\n",
        "plt.show()"
      ],
      "execution_count": null,
      "outputs": [
        {
          "data": {
            "image/png": "[encoded data removed]",
            "text/plain": [
              "<Figure size 432x288 with 1 Axes>"
            ]
          },
          "metadata": {
            "needs_background": "light"
          },
          "output_type": "display_data"
        }
      ]
    },
    {
      "cell_type": "markdown",
      "metadata": {
        "id": "nIM2NVw6_Kfi"
      },
      "source": [
        "## The Iris dataset"
      ]
    },
    {
      "cell_type": "markdown",
      "metadata": {
        "id": "8ZVzFOV7_Kfi"
      },
      "source": [
        "From [DataCamp](https://www.datacamp.com/community/tutorials/k-nearest-neighbor-classification-scikit-learn) "
      ]
    },
    {
      "cell_type": "code",
      "metadata": {
        "id": "I-0uJPxu_Kfj"
      },
      "source": [
        "from sklearn import datasets\n",
        "\n",
        "#Load dataset\n",
        "iris = datasets.load_iris()"
      ],
      "execution_count": null,
      "outputs": []
    },
    {
      "cell_type": "code",
      "metadata": {
        "id": "iKnfIG9g_Kfj"
      },
      "source": [
        "kmeans = KMeans(n_clusters=3, random_state=0)"
      ],
      "execution_count": null,
      "outputs": []
    },
    {
      "cell_type": "code",
      "metadata": {
        "id": "4wkFiTL5_Kfj",
        "outputId": "eb8855e2-e6c4-46c2-daa6-25fa00bbe537"
      },
      "source": [
        "kmeans.fit(iris.data)"
      ],
      "execution_count": null,
      "outputs": [
        {
          "data": {
            "text/plain": [
              "KMeans(algorithm='auto', copy_x=True, init='k-means++', max_iter=300,\n",
              "       n_clusters=3, n_init=10, n_jobs=None, precompute_distances='auto',\n",
              "       random_state=0, tol=0.0001, verbose=0)"
            ]
          },
          "execution_count": 14,
          "metadata": {},
          "output_type": "execute_result"
        }
      ]
    },
    {
      "cell_type": "code",
      "metadata": {
        "id": "w1sT7JBX_Kfk",
        "outputId": "5bd25f4c-8dff-4514-c473-24efa00bb9f5"
      },
      "source": [
        "#Compare this to the targets above: \n",
        "kmeans.labels_"
      ],
      "execution_count": null,
      "outputs": [
        {
          "data": {
            "text/plain": [
              "array([1, 1, 1, 1, 1, 1, 1, 1, 1, 1, 1, 1, 1, 1, 1, 1, 1, 1, 1, 1, 1, 1,\n",
              "       1, 1, 1, 1, 1, 1, 1, 1, 1, 1, 1, 1, 1, 1, 1, 1, 1, 1, 1, 1, 1, 1,\n",
              "       1, 1, 1, 1, 1, 1, 0, 0, 2, 0, 0, 0, 0, 0, 0, 0, 0, 0, 0, 0, 0, 0,\n",
              "       0, 0, 0, 0, 0, 0, 0, 0, 0, 0, 0, 2, 0, 0, 0, 0, 0, 0, 0, 0, 0, 0,\n",
              "       0, 0, 0, 0, 0, 0, 0, 0, 0, 0, 0, 0, 2, 0, 2, 2, 2, 2, 0, 2, 2, 2,\n",
              "       2, 2, 2, 0, 0, 2, 2, 2, 2, 0, 2, 0, 2, 0, 2, 2, 0, 0, 2, 2, 2, 2,\n",
              "       2, 0, 2, 2, 2, 2, 0, 2, 2, 2, 0, 2, 2, 2, 0, 2, 2, 0])"
            ]
          },
          "execution_count": 15,
          "metadata": {},
          "output_type": "execute_result"
        }
      ]
    },
    {
      "cell_type": "code",
      "metadata": {
        "id": "BE9spQhU_Kfk"
      },
      "source": [
        ""
      ],
      "execution_count": null,
      "outputs": []
    }
  ]
}