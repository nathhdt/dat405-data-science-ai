{
 "cells": [
  {
   "cell_type": "markdown",
   "metadata": {
    "id": "O73TxqjJH7e7"
   },
   "source": [
    "**DAT405 Introduction to Data Science and AI, 2010-2021, Study Period 2** <br/>\n",
    "**Assignment 5: Reinforcement learning and Classification** <br/>\n",
    "**Due Date: Dec 9, 23:59** <br/>\n",
    "---\n",
    "\n",
    "\n",
    "**What to submit**\n",
    "*   **The entire assignment should be submitted through the notebook. No separate file will be accepted.** You can submit either the notebook itself, or a public link to a Google Colab notebook<br/>\n",
    "\n",
    "*In the notebook:*\n",
    "*\tState your names and how many hours each person spent on the assignment.\n",
    "*\tThe solutions and answers to the theoretical and practical problems, including LaTeX math-mode equations, plots and tables etc.\n",
    "*\tAll plots/results should be visible such that the notebook does not have to be run. But the code in the notebook should reproduce the plots/results if we choose to do so.<br/>\n",
    "\n",
    "*Before submitting:*\n",
    "*   Make sure that your code can run on another computer. That all plots can show on another computer including all your writing. It is good to check if your code can run here: https://colab.research.google.com."
   ]
  },
  {
   "cell_type": "markdown",
   "metadata": {
    "id": "jDuY3qwbH7e7"
   },
   "source": [
    "**Self-check**<br/>\n",
    "Is all the required information included? Have you answered all questions to the best of your ability? Anything else you can easily check? (details, terminology, arguments, clearly stated answers etc.?) Does your notebook run and can reproduce the results, plots and tables?\n",
    "\n",
    "**Grading**<br/>\n",
    "Grading will be based on a qualitative assessment of each assignment. It is important to:\n",
    "*\tPresent clear arguments\n",
    "*\tPresent the results in a pedagogical way\n",
    "*\tShow understanding of the topics (e.g, write a pseudocode) \n",
    "*\tGive correct solutions\n",
    "*\tMake sure that the code is well commented \n",
    "\n",
    "**Again, as mentioned in general guidelines, all code should be written here. And this same ipython notebook file (Assignment5_Reinforcement_Learning.ipynb) should be submitted with answers and code written in it. No separate file will be accepted.** \n"
   ]
  },
  {
   "cell_type": "markdown",
   "metadata": {
    "id": "eFBrxZ7WRgtg"
   },
   "source": [
    "**Wei Wu and Lina Hammargren (around 20 hours).** <br/>\n",
    "\n"
   ]
  },
  {
   "cell_type": "markdown",
   "metadata": {
    "id": "m_6obY12H7e7"
   },
   "source": [
    "# Primer\n",
    "\n",
    "## Decision Making\n",
    "The problem of **decision making under uncertainty** (commonly known as **reinforcement learning**) can be broken down into\n",
    "two parts. First, how do we learn about the world? This involves both the\n",
    "problem of modeling our initial uncertainty about the world, and that of drawing conclusions from evidence and our initial belief. Secondly, given what we\n",
    "currently know about the world, how should we decide what to do, taking into\n",
    "account future events and observations that may change our conclusions?\n",
    "Typically, this will involve creating long-term plans covering possible future\n",
    "eventualities. That is, when planning under uncertainty, we also need to take\n",
    "into account what possible future knowledge could be generated when implementing our plans. Intuitively, executing plans which involve trying out new\n",
    "things should give more information, but it is hard to tell whether this information will be beneficial. The choice between doing something which is already\n",
    "known to produce good results and experiment with something new is known\n",
    "as the **exploration-exploitation dilemma**.\n",
    "\n",
    "## The exploration-exploitation trade-off\n",
    "\n",
    "Consider the problem of selecting a restaurant to go to during a vacation. Lets say the\n",
    "best restaurant you have found so far was **Les Epinards**. The food there is\n",
    "usually to your taste and satisfactory. However, a well-known recommendations\n",
    "website suggests that **King’s Arm** is really good! It is tempting to try it out. But\n",
    "there is a risk involved. It may turn out to be much worse than **Les Epinards**,\n",
    "in which case you will regret going there. On the other hand, it could also be\n",
    "much better. What should you do?\n",
    "It all depends on how much information you have about either restaurant,\n",
    "and how many more days you’ll stay in town. If this is your last day, then it’s\n",
    "probably a better idea to go to **Les Epinards**, unless you are expecting **King’s\n",
    "Arm** to be significantly better. However, if you are going to stay there longer,\n",
    "trying out **King’s Arm** is a good bet. If you are lucky, you will be getting much\n",
    "better food for the remaining time, while otherwise you will have missed only\n",
    "one good meal out of many, making the potential risk quite small."
   ]
  },
  {
   "cell_type": "code",
   "execution_count": null,
   "metadata": {
    "id": "RouJtZSzqqLt"
   },
   "outputs": [],
   "source": []
  },
  {
   "cell_type": "markdown",
   "metadata": {
    "id": "fC-SVg0ZH7e7"
   },
   "source": [
    "## Overview\n",
    "* To make things concrete, we will first focus on decision making under **no** uncertainity, i.e, given we have a world model, we can calculate the exact and optimal actions to take in it. We will first introduce **Markov Decision Process (MDP)** as the world model. Then we give one algorithm (out of many) to solve it.\n",
    "\n",
    "\n",
    "* Next, we will work through one type of reinforcement learning algorithm called Q-learning. Q-learning is an algorithm for making decisions under uncertainity, where uncertainity is over the possible world model (here MDP). It will find the optimal policy for the **unknown** MDP, assuming we do infinite exploration."
   ]
  },
  {
   "cell_type": "markdown",
   "metadata": {
    "id": "2zZ6HjxpH7e7"
   },
   "source": [
    "## Markov Decision Process"
   ]
  },
  {
   "cell_type": "markdown",
   "metadata": {
    "id": "KurOZxYjH7e7"
   },
   "source": [
    "Markov Decision Process (MDP) provides a mathematical framework for modeling sequential decision making under uncertainty. A MDP consists of five parts: the specific decision times, the state space of the environment/system, the available actions for the decision maker, the rewards, and the transition probabilities between the states.\n",
    "\n",
    "* Decision epochs: $t={1,2,...,T}$, where $T\\leq \\infty$\n",
    "* State space: $S=\\{s_1,s_2,...,s_N\\}$ of the underlying environment\n",
    "* Action space $A=\\{a_1,a_2,...,a_K\\}$ available to the decision maker at each decision epoch\n",
    "* Reward functions $R_t = r(a_t,s_t,s_{t+1})$ for the current state and action, and the resulting next state\n",
    "* Transition probabilities $p(s'|s,a)$ that taking action $a$ in state $s$ will lead to state $s'$\n",
    "\n",
    "At a given decision epoch $t$ and system state $s_t$, the decions maker, or *agent*, chooses an action $a_t$, the system jumps to a new state $s_{t+1}$ according to the transition probability $p(s_{t+1}|s_t,a_t)$, and the agent receives a reward $r_t(s_t,a_t,s_{t+1})$. This process is then repeated for a finite or infinite number of times.\n",
    "\n",
    "A *decision policy* is a function $\\pi: s \\rightarrow a$, that gives instructions on what action to choose in each state. A policy can either be *deterministic*, meaning that the action is given for each state, or *randomized* meaning that there is a probability distribution over the set of possible actions. Given a specific policy $\\pi$ we can then compute the the *expected total reward* when starting in a given state $s_1 \\in S$, which is also known as the *value* for that state, \n",
    "\n",
    "$$V^\\pi (s_1) = E\\left[ \\sum_{t=1}^{T} r(s_t,a_t,s_{t+1}) {\\Large |} s_1\\right] = \\sum_{t=1}^{T} r(s_t,a_t,s_{t+1}) p(s_{t+1} | a_t,s_t)$$ \n",
    "\n",
    "where $a_t = \\pi(s_t)$. To ensure convergence and to control how much credit to give to future rewards, it is common to introduce a *discount factor* $\\gamma \\in [0,1]$. For instance, if you think all future rewards should count equally, you would use $\\gamma = 1$, while if you only care less about future rewards you would use $\\gamma < 1$. The expected total *discounted* reward becomes\n",
    "\n",
    "$$V^\\pi( s_1) = \\sum_{t=1}^T \\gamma^{t-1} r(s_t,a_t, s_{t+1}) p(s_{t+1} | s_t, a_t) $$\n",
    "\n",
    "Now, to find the *optimal* policy we want to find the policy $\\pi^*$ that gives the highest total reward $V^{\\pi^*}(s)$ for all $s\\in S$. That is\n",
    "\n",
    "$$V^{\\pi^*}(s) \\geq V^\\pi(s), s\\in S$$\n",
    "\n",
    "The problem of finding the optimal policy is a _dynamic programming problem_. It turns out that a solution to the optimal policy problem in this context is the *Bellman equation*. The Bellman equation is given by\n",
    "\n",
    "$$V(s) = \\max_{a\\in A} \\left\\{\\sum_{s'\\in S} p(s'|s,a)( r(s,a,s') +\\gamma V(s')) \\right\\}$$\n",
    "\n",
    "Thus, it can be shown that if $\\pi$ is a policy such that $V^\\pi$ fulfills the Bellman equation, then $\\pi$ is an optimal policy.\n",
    "\n",
    "A real world example would be an inventory control system. Your states would be the amount of items you have in stock. Your actions would be the amount to order. The discrete time would be the days of the month. The reward would be the profit.  \n",
    "\n",
    "A major drawback of MDPs is called the \"Curse of Dimensionality\". MDPs unfortunately do not scale very well with increasing sets of states or actions.   \n"
   ]
  },
  {
   "cell_type": "markdown",
   "metadata": {
    "id": "0iUmTgzwH7e7"
   },
   "source": [
    "## Question 1"
   ]
  },
  {
   "cell_type": "markdown",
   "metadata": {
    "id": "QWPya78-H7e7"
   },
   "source": [
    "In this first question we work with the deterministic MDP, no code is necessary in this part.\n",
    "\n",
    "Setup:\n",
    "\n",
    "* The agent starts in state **S**\n",
    "* The actions possible are **N** (north), **S** (south), **E** (east), and **W** west. \n",
    "* Note, that you cannot move outside the grid, thus all actions are not available in every box.\n",
    "* When reaching **F**, the game ends (absorbing state).\n",
    "* The numbers in the boxes represent the rewards you receive when moving into that box. \n",
    "* Assume no discount in this model: $\\gamma = 1$\n",
    "\n",
    "The reward of a state $r(s=(x, y))$ is given by the values on the grid:\n",
    "    \n",
    "| | | |\n",
    "|----------|----------|---------|\n",
    "|-1 |1|**F**|\n",
    "|0|-1|1|  \n",
    "|-1 |0|-1|  \n",
    "|**S**|-1|1|\n",
    "\n",
    "Let $(x,y)$ denote the position in the grid, such that $S=(0,0)$ and $F=(2,3)$.\n",
    "\n",
    "**1a)** What is the optimal path of the MDP above? Is it unique? Submit the path as a single string of directions. E.g. NESW will make a circle.\n",
    "\n",
    "**1b)** What is the optimal policy (i.e. the optimal action in each state)?\n",
    "\n",
    "**1c)** What is expected total reward for the policy in 1b)?\n"
   ]
  },
  {
   "cell_type": "markdown",
   "metadata": {
    "id": "wwnhd0d0ygO6"
   },
   "source": [
    "**Answers (all parts changed)** <br/>\n",
    "\n",
    "**1a)**   \n",
    "\n",
    "EENNN (the shortest length) and EENNWNE (has the same zero sum but longer length)\n",
    "\n",
    "Since the gamma is 1, the length does not matter.\n",
    "\n",
    "\n",
    "**1b)** \n",
    "\n",
    "The optimal policy which achieves the best value.\n",
    "\n",
    "start state S(0,0) $\\rightarrow$ E/N is -1\n",
    "\n",
    "(0,1) $\\rightarrow$ E is 1\n",
    "\n",
    "(0,2) $\\rightarrow$ N is -1\n",
    "\n",
    "(1,0) $\\rightarrow$ N/E is 0\n",
    "\n",
    "(1,1) $\\rightarrow$ N/E/S/W is -1\n",
    "\n",
    "(1,2) $\\rightarrow$ N/S is 1\n",
    "\n",
    "(2,0) $\\rightarrow$ N/E/S is -1\n",
    "\n",
    "(2,1) $\\rightarrow$ N/E is 1\n",
    "\n",
    "(2,2) $\\rightarrow$ N is 0\n",
    "\n",
    "(3,0) $\\rightarrow$ E is 1\n",
    "\n",
    "(3,1) $\\rightarrow$ E is 0\n",
    "\n",
    "(3,2) absorbing state\n",
    "\n",
    "| | | |\n",
    "|----------|----------|---------|\n",
    "|$\\rightarrow$ |$\\rightarrow$|**F**|\n",
    "|$\\rightarrow$|$\\uparrow$|$\\leftarrow$$\\uparrow$|  \n",
    "|$\\rightarrow$|$\\rightarrow$|$\\uparrow$|  \n",
    "|**S$\\rightarrow$**|$\\rightarrow$|$\\uparrow$|\n",
    "\n",
    "\n",
    "\n",
    "\n",
    "\n",
    "\n",
    "**1c)** \n",
    "\n",
    "0\n"
   ]
  },
  {
   "cell_type": "markdown",
   "metadata": {
    "id": "ZyQ7IatcH7e7"
   },
   "source": [
    "## Value Iteration"
   ]
  },
  {
   "cell_type": "markdown",
   "metadata": {
    "id": "5NfqElM_H7e7"
   },
   "source": [
    "For larger problems we need to utilize algorithms to determine the optimal policy $\\pi^*$. *Value iteration* is one such algorithm that iteratively computes the value for each state. Recall that for a policy to be optimal, it must satisfy the Bellman equation above, meaning that plugging in a given candidate $V^*$ in the right-hand side (RHS) of the Bellman equation should result in the same $V^*$ on the left-hand side (LHS). This property will form the basis of our algorithm. Essentially, it can be shown that repeated application of the RHS to any intial value function $V^0(s)$ will eventually lead to the value $V$ which statifies the Bellman equation. Hence repeated application of the Bellman equation will also lead to the optimal value function. We can then extract the optimal policy by simply noting what actions that satisfy the equation. The process of repeated application of the Bellman equation what we here call the _value iteration_ algorithm."
   ]
  },
  {
   "cell_type": "markdown",
   "metadata": {
    "id": "4qbn4HjqR2fA"
   },
   "source": [
    "The value iteration algorithm practically procedes as follows:\n",
    "\n",
    "```\n",
    "epsilon is a small value, threshold\n",
    "for x from i to infinity \n",
    "do\n",
    "    for each state s\n",
    "    do\n",
    "        V_k[s] = max_a Σ_s' p(s′|s,a)*(r(a,s,s′) + γ*V_k−1[s′])\n",
    "    end\n",
    "    if  |V_k[s]-V_k-1[s]| < epsilon for all s\n",
    "        for each state s,\n",
    "        do\n",
    "            π(s)=argmax_a ∑_s′ p(s′|s,a)*(r(a,s,s′) + γ*V_k−1[s′])\n",
    "            return π, V_k \n",
    "        end\n",
    "end\n",
    "\n",
    "```\n",
    "\n",
    "\n",
    "\n",
    "\n"
   ]
  },
  {
   "cell_type": "markdown",
   "metadata": {
    "id": "K7hOzat7H7e8"
   },
   "source": [
    "**Example:** We will illustrate the value iteration algorithm by going through two iterations. Below is a 3x3 grid with the rewards given in each state. Assume now that given a certain state $s$ and action $a$, there is a probability of 0.8 that that action will be performed and a probability of 0.2 that no action is taken. For instance, if we take action **E** in state $(x,y)$ we will go to $(x+1,y)$ 80 percent of the time (given that that action is available in that state, that is, we stay on the grid), and remain still 20 percent of the time. We will use have a discount factor $\\gamma = 0.9$. Let the initial value be $V^0(s)=0$ for all states $s\\in S$. \n",
    "\n",
    "| | | |  \n",
    "|----------|----------|---------|  \n",
    "|0|0|0|\n",
    "|0|10|0|  \n",
    "|0|0|0|  \n",
    "\n",
    "\n",
    "**Iteration 1**: The first iteration is trivial, $V^1(s)$ becomes the $\\max_a \\sum_{s'} p(s'|s,a) r(s,a,s')$ since $V^0$ was zero for all $s'$. The updated values for each state become\n",
    "\n",
    "| | | |  \n",
    "|----------|----------|---------|  \n",
    "|0|8|0|\n",
    "|8|2|8|  \n",
    "|0|8|0|  \n",
    "  \n",
    "**Iteration 2**:  \n",
    "  \n",
    "Staring with cell (0,0) (lower left corner): We find the expected value of each move:  \n",
    "Action **S**: 0  \n",
    "Action **E**: 0.8( 0 + 0.9 \\* 8) + 0.2(0 + 0.9 \\* 0) = 5.76  \n",
    "Action **N**: 0.8( 0 + 0.9 \\* 8) + 0.2(0 + 0.9 \\* 0) = 5.76  \n",
    "Action **W**: 0\n",
    "\n",
    "Hence any action between **E** and **N** would be best at this stage.\n",
    "\n",
    "Similarly for cell (1,0):\n",
    "\n",
    "Action **N**: 0.8( 10 + 0.9 \\* 2) + 0.2(0 + 0.9 \\* 8) = 10.88 (Action **N** is the maximizing action)  \n",
    "\n",
    "Similar calculations for remaining cells give us:\n",
    "\n",
    "| | | |  \n",
    "|----------|----------|---------|  \n",
    "|5.76|10.88|5.76|\n",
    "|10.88|8.12|10.88|  \n",
    "|5.76|10.88|5.76|  \n"
   ]
  },
  {
   "cell_type": "markdown",
   "metadata": {
    "id": "ccoMLc71H7e8"
   },
   "source": [
    "## Question 2\n",
    "\n",
    "**2a)** Implement the value iteration algorithm just described here in python, and show the converging optimal value function and the optimal policy for the above 3x3 grid. Hint: use the pseudo-code above as a starting point, but be sure to explain what every line does.\n",
    "\n",
    "**2b)** Explain why the result of 2a) does not depend on the initial value $V_0$."
   ]
  },
  {
   "cell_type": "code",
   "execution_count": null,
   "metadata": {
    "colab": {
     "base_uri": "https://localhost:8080/"
    },
    "id": "-MFXzQgMYNGh",
    "outputId": "8093344f-1886-4a26-f6f6-df980002a1b4"
   },
   "outputs": [
    {
     "name": "stdout",
     "output_type": "stream",
     "text": [
      "Value matrix:\n",
      "[[45.61292366 51.94805195 45.61292366]\n",
      " [51.94805195 48.05194805 51.94805195]\n",
      " [45.61292366 51.94805195 45.61292366]]\n",
      "Iterations:\n",
      "334\n"
     ]
    }
   ],
   "source": [
    "# Boolean variables for allowed actions\n",
    "\n",
    "# if we are in column 2 we cannot move east\n",
    "def eastBorder(k):\n",
    "    return k>=2\n",
    "\n",
    "# if we are in column 0 we cannot move west\n",
    "def westBorder(k):\n",
    "    return k<=0\n",
    "\n",
    "# if we are in row 2 we cannot move south\n",
    "def southBorder(k):\n",
    "    return k>=2\n",
    "\n",
    "# if we ar in row 0 we cannot move north\n",
    "def northBorder(k):\n",
    "    return k<=0\n",
    "\n",
    "\n",
    "# maxAction-function returns the maximum value of actions East, West, South and North (Bellman equation)\n",
    "\n",
    "# i = current row\n",
    "# j= current column\n",
    "# moveProb= transition probability of moving (0.8)\n",
    "# moveStay=  transition probability of staying (0.2)\n",
    "# Gamma= discount factor (0.9)\n",
    "# reward= the rewards\n",
    "# V_past = the matrix of the previous iteration\n",
    "\n",
    "def maxAction(i,j, moveProb, stayProb, Gamma, reward, V_past):\n",
    "    E, W, S, N=0.0,0.0,0.0,0.0\n",
    "    \n",
    "    if (not eastBorder(i)):\n",
    "        E=0.8*(reward[i+1][j] + 0.9*V_past[i+1][j]) + 0.2*(reward[i][j] + 0.9*V_past[i][j])\n",
    "                \n",
    "    if (not westBorder(i)):\n",
    "        W=0.8*(reward[i-1][j] + 0.9*V_past[i-1][j]) + 0.2*(reward[i][j] + 0.9*V_past[i][j])\n",
    "                \n",
    "    if (not southBorder(j)):\n",
    "        S=0.8*(reward[i][j+1] + 0.9*V_past[i][j+1]) + 0.2*(reward[i][j] + 0.9*V_past[i][j])\n",
    "                \n",
    "    if (not northBorder(j)):\n",
    "        N=0.8*(reward[i][j-1] + 0.9*V_past[i][j-1])+ 0.2*(reward[i][j] + 0.9*V_past[i][j])\n",
    "            \n",
    "    return max(E, W, S, N)\n",
    "\n",
    "import numpy as np\n",
    "\n",
    "# valueIteration-function computes the value matrices\n",
    "\n",
    "# init := the initial matrix (0 for all states (i,j))\n",
    "# reward := the reward matrix (0 for all states except (1,1) where it is 10)\n",
    "\n",
    "def V_current(Vpast, reward):\n",
    "    V=[]\n",
    "    for i in range(0,3):\n",
    "        for j in range(0,3):\n",
    "            V.append(maxAction(i,j, 0.8, 0.2, 0.9, reward, Vpast))\n",
    "    Vmat=np.array(V).reshape(3,3)        \n",
    "    return Vmat\n",
    "\n",
    "# initial state\n",
    "init=[[0.0,0.0,0.0],[0.0,0.0,0.0],[0.0,0.0,0.0]]\n",
    "\n",
    "# reward matrix\n",
    "reward=[[0.0,0.0,0.0],[0.0,10.0,0.0],[0.0,0.0,0.0]]\n",
    "\n",
    "# First iteration\n",
    "V1=V_current(init,reward)\n",
    "\n",
    "\n",
    "\n",
    "Vcurrent=V1\n",
    "Vpast=np.asarray(init)\n",
    "\n",
    "# epsilon\n",
    "eps=0.001\n",
    "\n",
    "# counter (how many iterations were needed until convergence)\n",
    "counter=0\n",
    "\n",
    "# while any value in the element-wise difference between the current value matrix \n",
    "# and the past value matrix is smaller than epsilon we set the past matrix to the previous\n",
    "# value matrix and create a new current matrix by calling the function V_current\n",
    "\n",
    "while (Vcurrent - Vpast).any() > eps:\n",
    "    # new past was the previous current\n",
    "    Vpast=Vcurrent\n",
    "    \n",
    "    # compute new current\n",
    "    Vcurrent=V_current(Vcurrent,reward)\n",
    "    \n",
    "    counter+=1\n",
    "\n",
    "print(\"Value matrix:\")    \n",
    "print(Vcurrent)\n",
    "print(\"Iterations:\")\n",
    "print(counter+1)"
   ]
  },
  {
   "cell_type": "markdown",
   "metadata": {
    "id": "pN0Xw_G71Aig"
   },
   "source": [
    "2a)\n",
    "The converging optimal values are:\n",
    "\n",
    "[[45.61292366 51.94805195 45.61292366]\n",
    "\n",
    " [51.94805195 48.05194805 51.94805195]\n",
    "\n",
    " [45.61292366 51.94805195 45.61292366]]\n",
    "\n",
    "Is the reward matrix so the optimal policy is to move in whichever allowed way as possible at the corners (0,0), (2,0), (0,2) and (2,2). In states (1,0),(0,1),(2,1) and (1,2) we want to move to (1,1) because this yields a reward of 10. In (1,1) it does not matter which way we go.\n",
    "\n",
    "| | | |\n",
    "|----------|----------|---------|\n",
    "|$\\downarrow$$\\rightarrow$ |   $\\downarrow$|$\\leftarrow$$\\downarrow$|\n",
    "|$\\rightarrow$|$\\leftarrow$$\\downarrow$$\\uparrow$$\\rightarrow$|$\\leftarrow$|  \n",
    "|$\\uparrow$$\\rightarrow$|$\\uparrow$|$\\leftarrow$$\\uparrow$|  \n",
    "\n",
    "2b)\n",
    "\n",
    " The initial value is repeatedly multiplied by the discount factor and will be smaller and smaller approach to zero as the iterations keep going.\n",
    "\n",
    "Looking at the Bellman equation:\n",
    "\n",
    "$$V(s) = \\max_{a\\in A} \\left\\{\\sum_{s'\\in S} p(s'|s,a)( r(s,a,s') +\\gamma V(s')) \\right\\}$$\n",
    "\n",
    "where $$0<p(s'|s,a)<1 \\text{ and }\\gamma=0.9 \\text{ and } V(s') \\text{ is the value of the previous time step}$$\n",
    "\n",
    "So due to repeated multiplication by the discount factor the values will eventually converge."
   ]
  },
  {
   "cell_type": "markdown",
   "metadata": {
    "id": "BQXoOa7LH7e8"
   },
   "source": [
    "## Reinforcement Learning (RL)\n",
    "Until now, we understood that knowing the MDP, specifically $p(s'|a,s)$ and $r(a,s,s')$ allows us to efficiently find the optimal policy using the value iteration algorithm. Reinforcement learning (RL) or decision making under uncertainity, however, arises from the question of making optimal decisions without knowing the true world model (the MDP in this case).\n",
    "\n",
    "So far we have defined the value function for a policy through $V^\\pi$. Let's now define the *action-value function*\n",
    "\n",
    "$$Q^\\pi(s,a) = \\sum_{s'} p(s'|a,s) [r(a,s,s') + \\gamma V^\\pi(s')]$$\n",
    "\n",
    "The value function and the action-value function are directly related through\n",
    "\n",
    "$$V^\\pi (s) = \\max_a Q^\\pi (s,a)$$\n",
    "\n",
    "i.e, the value of taking action $a$ in state $s$ and then following the policy $\\pi$ onwards. Similarly to the value function, the optimal $Q$-value equation is:\n",
    "\n",
    "$$Q^*(s,a) = \\sum_{s'} p(s'|a,s) [r(a,s\n",
    "]\\,s') + \\gamma V^*(s')]$$\n",
    "\n",
    "and the relationship between $Q^*(s,a)$ and $V^*(s)$ is simply\n",
    "\n",
    "$$V^*(s) = \\max_{a\\in A} Q^*(s,a).$$\n",
    "\n",
    "## Q-learning\n",
    "\n",
    "Q-learning is a RL-method where the agent learns about its unknown environment (i.e. the MDP is unknown) through exploration. In each time step *t* the agent chooses an action *a* based on the current state *s*, observes the reward *r* and the next state *s'*, and repeats the process in the new state. Q-learning is then a method that allows the agent to act optimally. Here we will focus on the simplest form of Q-learning algorithms, which can be applied when all states are known to the agent, and the state and action spaces are reasonably small. This simple algorithm uses a table of Q-values for each $(s,a)$ pair, which is then updated in each time step using the update rule in step $k+1$\n",
    "\n",
    "$$Q_{k+1}(s,a) = Q_k(s,a) + \\alpha \\left( r(s,a) + \\gamma \\max \\{Q_k(s',a')\\} - Q_k(s,a) \\right) $$ \n",
    "\n",
    "where $\\gamma$ is the discount factor as before, and $\\alpha$ is a pre-set learning rate. It can be shown that this algorithm converges to the optimal policy of the underlying MDP for certain values of $\\alpha$ as long as there is sufficient exploration. While a constant $\\alpha$ generally does not guarantee us to reach true convergence, we keep it constant at $\\alpha=0.1$ for this assignment.\n",
    "\n",
    "## OpenAI Gym\n",
    "\n",
    "We shall use already available simulators for different environments (worlds) using the popular OpenAI Gym library. It just implements [different types of simulators](https://gym.openai.com/) including ATARI games. Although here we will only focus on simple ones, such as the [Chain enviroment](https://gym.openai.com/envs/NChain-v0/) illustrated below.\n",
    "![alt text](https://chalmersuniversity.box.com/shared/static/6tthbzhpofq9gzlowhr3w8if0xvyxb2b.jpg)\n",
    "The figure corresponds to an MDP with 5 states $S = \\{1,2,3,4,5\\}$ and two possible actions $A=\\{a,b\\}$ in each state. The arrows indicate the resulting transitions for each state-action pair, and the numbers correspond to the rewards for each transition.\n",
    "\n",
    "## Question 3\n",
    "You are to first familiarize with the framework using its [documentation](http://gym.openai.com/docs/), and then implement the Q-learning algorithm for the Chain enviroment (called 'NChain-v0') using default parameters. Finally print the $Q^*$ table at convergence. Convergence is **not** a constant value, rather a stable plateau with some noise. Take $\\gamma=0.95$. You can refer to the Q-learning (frozen lake) Jupyter notebook shown in class, uploaded on Canvas. Hint: start with a small learning rate.\n",
    "\n",
    "## Question 4\n",
    "\n",
    "**4a)** Define the MDP corresponding to the Chain environment above and verify that the optimal $Q^*$ value obtained using simple Q-learning is the same as the optimal value function $V^*$ for the corresponding MDP's optimal action. Hint: compare values obtained using value iteration and Q-learning.\n",
    "\n",
    "**4b)** What is the importance of exploration in RL? Explain with an example.\n"
   ]
  },
  {
   "cell_type": "code",
   "execution_count": null,
   "metadata": {
    "colab": {
     "base_uri": "https://localhost:8080/"
    },
    "id": "ysz9X6hZGfxu",
    "outputId": "3146ecfb-b7b2-4ad2-8ade-6b02009b191e"
   },
   "outputs": [
    {
     "name": "stdout",
     "output_type": "stream",
     "text": [
      "[[58.00976845 57.08220736]\n",
      " [61.47587063 58.23392145]\n",
      " [66.9367347  59.79148277]\n",
      " [74.46410013 62.86368881]\n",
      " [88.27903336 68.47827932]]\n"
     ]
    }
   ],
   "source": [
    "#question 3\n",
    "import numpy as np\n",
    "import gym\n",
    "import random\n",
    "\n",
    "env = gym.make(\"NChain-v0\")\n",
    "\n",
    "\n",
    "action_size = env.action_space.n \n",
    "state_size = env.observation_space.n \n",
    "\n",
    "\n",
    "qtable = np.zeros((state_size, action_size)) #set the q table \n",
    "\n",
    "\n",
    "# Total episodes\n",
    "total_episodes = 1000\n",
    "# Learning rate       \n",
    "learning_rate = 0.1\n",
    "# Max steps per episode           \n",
    "max_steps = 100\n",
    "# Discounting rate                \n",
    "gamma = 0.95                  \n",
    "\n",
    "\n",
    "# List of rewards\n",
    "rewards = []\n",
    "\n",
    "\n",
    "for i in range(total_episodes):\n",
    "    # Reset the environment\n",
    "    state = env.reset()\n",
    "    step = 0\n",
    "    done = False\n",
    "    total_rewards = 0\n",
    "\n",
    "    for i in range(max_steps):\n",
    "        # Choose an action a in the current world state (s)\n",
    "        # randomize a number between 0 and 1\n",
    "        random_num = random.uniform(0, 1)\n",
    "\n",
    "        # If this number is greater than epsilon \n",
    "        # exploitation: taking the biggest Q value for this state)\n",
    "        if random_num > 1:\n",
    "            action = np.argmax(qtable[state,:])\n",
    "\n",
    "        # else doing the random choice \n",
    "        else:\n",
    "            action = env.action_space.sample()\n",
    "\n",
    "        # Take the action (a) and observe the outcome state(s') and reward (r)\n",
    "        new_state, reward, done, info = env.step(action)\n",
    "\n",
    "        # Update Q(s,a):= Q(s,a) + lr [R(s,a) + gamma * max Q(s',a') - Q(s,a)]\n",
    "        # qtable[new_state,:] : all the actions we can take from new state\n",
    "        qtable[state, action] = qtable[state, action] + learning_rate * (reward + gamma * np.max(qtable[new_state, :]) - qtable[state, action])\n",
    "\n",
    "        total_rewards += reward\n",
    "\n",
    "        # Our new state is state\n",
    "        state = new_state\n",
    "\n",
    "        # If done : finish episode\n",
    "        if done == True:\n",
    "            break\n",
    "\n",
    "\n",
    "\n",
    "print(qtable)"
   ]
  },
  {
   "cell_type": "markdown",
   "metadata": {
    "id": "Bm-Y94BMfh-0"
   },
   "source": [
    "The Q table records each state's corresponding quality."
   ]
  },
  {
   "cell_type": "markdown",
   "metadata": {
    "id": "UWUqaN60H7e8"
   },
   "source": [
    "## Question 5\n",
    "\n",
    "**5a)** Give a summary of how a decision tree works and how it extends to random forests.\n",
    "\n",
    "**5b)** Explain what makes reinforcement learning different from supervised learning tasks such as regression or classification."
   ]
  },
  {
   "cell_type": "markdown",
   "metadata": {
    "id": "VLEotgQ9v0rz"
   },
   "source": [
    "**Answers:**\n",
    "\n",
    "*should uppdate: How does one construct such a tree? What are its limitations? How do random forests mitigate some of those limitations?*\n",
    "\n",
    "**5a)**\n",
    "1. How a decision tree works\n",
    "\n",
    "With a decision tree we use a dataset and divide the data based on questions about the features. For example, assume we have a feature which is called \"Age\", then a question could be whether the value of the \"Age\" feature is smaller than some given value. Then the dataset is split based on this feature with one branch and node representing the dataset that fulfills this condition, and the other branch and node represents the dataset that does not fulfill this condition. This process is then repeated for a series of questions about the features of the dataset. \n",
    "\n",
    "At the root (the top) of the tree, we ask some question about the data and divide the dataset based on which datapoints fulfill the condition. This process is repeated for many questions and results in a tree-like structure.\n",
    "\n",
    "The decision trees are displayed like a tree (the root is in the top and then down with some branches). The tree root is the sample, the nodes are the question, the branches are answers, the leaves are the labels that result from an answer. Every time we have a new question we will get a new branch (split the tree) until homogenous.\n",
    "\n",
    "The limitation of the decision trees is that they are unstable. Tiny changes can make a big change in the structure of the decision tree. The trees are dependent on which questions asked and in what order.\n",
    "\n",
    "Also, with decision trees the depth of the trees (more splits and more questions asked) increases the accuracy for the given dataset but results in a larger risk of overfitting to the data. This can impair the predictive power if used on another dataset (such as if we build a decision tree on the training dataset and then want to test it on the other part of the dataset).\n",
    "\n",
    "2. How it extends to random forests\n",
    "\n",
    "The random forest is a set of many decision trees. In each iteration a subset of the training data is sampled and a decision tree is created using a subset of randomly selected features in the dataset. The random forest randomly picks the features from the data to build many decision trees and repeats the process until gets enough data, then counts the average. This mitigates the risk of overfitting that comes from using only one decision tree.\n",
    "\n",
    "The random forests are more flexible and reduce the overfitting in decision trees, which also helps to improve accuracy.\n"
   ]
  },
  {
   "cell_type": "markdown",
   "metadata": {
    "id": "jfKId9am0GVU"
   },
   "source": [
    "**5b)** \n",
    "\n",
    "In reinforcement learning, the goal is more about controlling such as driving a vehicle or playing gaming against another player, etc.,\n",
    "\n",
    "However, in supervised learning, both input and output will be available for decision making. such as playing chess against an opponent.\n",
    "\n",
    "In supervised learning the dataset has labels (or we use a dependent variable from the dataset for which we know the value for each datapoint as in regression) and we train the model to be as accurate as possible knowing the labels during training. The goal is to minimize the error made in prediction.\n",
    "\n",
    "In reinforcement learning (as have been used in this assignment) we are training an agent to take actions as to maximize some reward. There are no labels present as in supervised learning, but the agent learns in an environment based on the rewards."
   ]
  },
  {
   "cell_type": "markdown",
   "metadata": {
    "id": "Wev-_UhcH7e8"
   },
   "source": [
    "\n",
    "# References\n",
    "Primer/text based on the following references:\n",
    "* http://www.cse.chalmers.se/~chrdimi/downloads/book.pdf\n",
    "* https://github.com/olethrosdc/ml-society-science/blob/master/notes.pdf"
   ]
  }
 ],
 "metadata": {
  "colab": {
   "collapsed_sections": [
    "fC-SVg0ZH7e7",
    "Wev-_UhcH7e8"
   ],
   "name": "Reinforcement Learning.ipynb",
   "provenance": []
  },
  "kernelspec": {
   "display_name": "Python 3",
   "language": "python",
   "name": "python3"
  },
  "language_info": {
   "codemirror_mode": {
    "name": "ipython",
    "version": 3
   },
   "file_extension": ".py",
   "mimetype": "text/x-python",
   "name": "python",
   "nbconvert_exporter": "python",
   "pygments_lexer": "ipython3",
   "version": "3.8.8"
  }
 },
 "nbformat": 4,
 "nbformat_minor": 1
}
