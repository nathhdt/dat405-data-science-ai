{
 "cells": [
  {
   "cell_type": "markdown",
   "metadata": {
    "id": "rHoSDyYpdh-s"
   },
   "source": [
    "Assignment 7: Neural Networks using Keras and Tensorflow Please see the associated document for questions\n",
    "\n",
    "If you have problems with Keras and Tensorflow on your local installation please make sure they are updated. On Google Colab this notebook runs."
   ]
  },
  {
   "cell_type": "code",
   "execution_count": 1,
   "metadata": {
    "id": "02ZYZ-WmdhwH"
   },
   "outputs": [],
   "source": [
    "# imports\n",
    "from __future__ import print_function\n",
    "import keras\n",
    "from keras.datasets import mnist\n",
    "from keras.models import Sequential\n",
    "from keras.layers import Dense, Dropout, Flatten\n",
    "from keras.layers import Conv2D, MaxPooling2D\n",
    "from keras import backend as K\n",
    "import tensorflow as tf\n",
    "from matplotlib import pyplot as plt \n",
    "from keras.utils import np_utils\n",
    "from tensorflow.keras import optimizers\n",
    "import numpy as np\n"
   ]
  },
  {
   "cell_type": "code",
   "execution_count": 2,
   "metadata": {
    "colab": {
     "base_uri": "https://localhost:8080/"
    },
    "id": "BJRCoRmew8Zd",
    "outputId": "96be1211-a2d9-4110-e510-7462662871e4"
   },
   "outputs": [],
   "source": [
    "# Hyper-parameters data-loading and formatting\n",
    "\n",
    "batch_size = 128\n",
    "num_classes = 10\n",
    "epochs = 10\n",
    "\n",
    "img_rows, img_cols = 28, 28\n",
    "\n",
    "(x_train, lbl_train), (x_test, lbl_test) = mnist.load_data()\n",
    "\n",
    "if K.image_data_format() == 'channels_first':\n",
    "    x_train = x_train.reshape(x_train.shape[0], 1, img_rows, img_cols)\n",
    "    x_test = x_test.reshape(x_test.shape[0], 1, img_rows, img_cols)\n",
    "    input_shape = (1, img_rows, img_cols)\n",
    "else:\n",
    "    x_train = x_train.reshape(x_train.shape[0], img_rows, img_cols, 1)\n",
    "    x_test = x_test.reshape(x_test.shape[0], img_rows, img_cols, 1)\n",
    "    input_shape = (img_rows, img_cols, 1)"
   ]
  },
  {
   "cell_type": "markdown",
   "metadata": {
    "id": "-I3g1RrZ0wpI"
   },
   "source": [
    "**Preprocessing**"
   ]
  },
  {
   "cell_type": "code",
   "execution_count": 3,
   "metadata": {
    "id": "UswCCQLS0s1I"
   },
   "outputs": [],
   "source": [
    "x_train = x_train.astype('float32')\n",
    "x_test = x_test.astype('float32')\n",
    "\n",
    "x_train /= 255\n",
    "x_test /= 255\n",
    "\n",
    "y_train = keras.utils.np_utils.to_categorical(lbl_train, num_classes)\n",
    "y_test = keras.utils.np_utils.to_categorical(lbl_test, num_classes)\n"
   ]
  },
  {
   "cell_type": "code",
   "execution_count": 4,
   "metadata": {
    "colab": {
     "base_uri": "https://localhost:8080/"
    },
    "id": "WV1Y3TbzikQU",
    "outputId": "a1348944-db3a-43ed-fcd2-71486a31b6b8"
   },
   "outputs": [
    {
     "name": "stderr",
     "output_type": "stream",
     "text": [
      "/opt/anaconda3/lib/python3.8/site-packages/keras/optimizer_v2/gradient_descent.py:102: UserWarning: The `lr` argument is deprecated, use `learning_rate` instead.\n",
      "  super(SGD, self).__init__(name, **kwargs)\n"
     ]
    },
    {
     "name": "stdout",
     "output_type": "stream",
     "text": [
      "Epoch 1/10\n",
      "469/469 [==============================] - 1s 1ms/step - loss: 0.4710 - accuracy: 0.8654 - val_loss: 0.2543 - val_accuracy: 0.9266\n",
      "Epoch 2/10\n",
      "469/469 [==============================] - 1s 1ms/step - loss: 0.2265 - accuracy: 0.9334 - val_loss: 0.1811 - val_accuracy: 0.9455\n",
      "Epoch 3/10\n",
      "469/469 [==============================] - 1s 1ms/step - loss: 0.1735 - accuracy: 0.9489 - val_loss: 0.1516 - val_accuracy: 0.9528\n",
      "Epoch 4/10\n",
      "469/469 [==============================] - 1s 1ms/step - loss: 0.1409 - accuracy: 0.9585 - val_loss: 0.1286 - val_accuracy: 0.9630\n",
      "Epoch 5/10\n",
      "469/469 [==============================] - 1s 1ms/step - loss: 0.1194 - accuracy: 0.9644 - val_loss: 0.1156 - val_accuracy: 0.9662\n",
      "Epoch 6/10\n",
      "469/469 [==============================] - 1s 1ms/step - loss: 0.1038 - accuracy: 0.9687 - val_loss: 0.1096 - val_accuracy: 0.9663\n",
      "Epoch 7/10\n",
      "469/469 [==============================] - 1s 1ms/step - loss: 0.0922 - accuracy: 0.9725 - val_loss: 0.0998 - val_accuracy: 0.9696\n",
      "Epoch 8/10\n",
      "469/469 [==============================] - 1s 1ms/step - loss: 0.0820 - accuracy: 0.9758 - val_loss: 0.1005 - val_accuracy: 0.9699\n",
      "Epoch 9/10\n",
      "469/469 [==============================] - 1s 1ms/step - loss: 0.0748 - accuracy: 0.9777 - val_loss: 0.0951 - val_accuracy: 0.9704\n",
      "Epoch 10/10\n",
      "469/469 [==============================] - 1s 1ms/step - loss: 0.0684 - accuracy: 0.9793 - val_loss: 0.0945 - val_accuracy: 0.9709\n",
      "Test loss: 0.09445401281118393, Test accuracy 0.9708999991416931\n"
     ]
    }
   ],
   "source": [
    "\n",
    "def train():\n",
    "  model = Sequential()\n",
    "\n",
    "  model.add(Flatten())\n",
    "  model.add(Dense(64, activation = 'relu'))\n",
    "  model.add(Dense(64, activation = 'relu'))\n",
    "  model.add(Dense(num_classes, activation='softmax'))\n",
    "\n",
    "\n",
    "  model.compile(loss=keras.losses.categorical_crossentropy,\n",
    "                optimizer=optimizers.SGD(lr = 0.1),\n",
    "          metrics=['accuracy'],)\n",
    "\n",
    "  fit_info = model.fit(x_train, y_train,\n",
    "            batch_size=batch_size,\n",
    "            epochs=10,\n",
    "            verbose=1,\n",
    "            validation_data=(x_test, y_test))\n",
    "  score = model.evaluate(x_test, y_test, verbose=0)\n",
    "  print('Test loss: {}, Test accuracy {}'.format(score[0], score[1]))\n",
    "  return fit_info\n",
    "fit_info = train()"
   ]
  },
  {
   "cell_type": "code",
   "execution_count": 5,
   "metadata": {
    "id": "N7Aer42gk1W9"
   },
   "outputs": [],
   "source": [
    "\n",
    "## Define model ##\n",
    "\n",
    "def train_using_decay(decay):\n",
    "  model = Sequential()\n",
    "\n",
    "  model.add(Flatten())\n",
    "  model.add(Dense(500, activation = 'relu', kernel_regularizer=tf.keras.regularizers.l2(decay)))\n",
    "  model.add(Dense(300, activation = 'relu', kernel_regularizer=tf.keras.regularizers.l2(decay)))\n",
    "  model.add(Dense(num_classes, activation='softmax'))\n",
    "\n",
    "\n",
    "  model.compile(loss=keras.losses.categorical_crossentropy,\n",
    "                optimizer=optimizers.SGD(lr = 0.1),\n",
    "          metrics=['accuracy'],)\n",
    "\n",
    "  fit_info = model.fit(x_train, y_train,\n",
    "            batch_size=batch_size,\n",
    "            epochs=10,\n",
    "            verbose=1,\n",
    "            validation_data=(x_test, y_test))\n",
    "  score = model.evaluate(x_test, y_test, verbose=0)\n",
    "  print('Test loss: {}, Test accuracy {}'.format(score[0], score[1]))\n",
    "  return fit_info\n"
   ]
  },
  {
   "cell_type": "code",
   "execution_count": 6,
   "metadata": {
    "colab": {
     "base_uri": "https://localhost:8080/"
    },
    "id": "THxOnn8PP3yS",
    "outputId": "b71d5c03-1da0-4b0d-df7b-dc3fea5cef24"
   },
   "outputs": [
    {
     "name": "stdout",
     "output_type": "stream",
     "text": [
      "[*] Training with 1e-06 decay\n",
      "Epoch 1/10\n",
      "469/469 [==============================] - 2s 3ms/step - loss: 0.4037 - accuracy: 0.8880 - val_loss: 0.2332 - val_accuracy: 0.9328\n",
      "Epoch 2/10\n",
      "469/469 [==============================] - 2s 3ms/step - loss: 0.1902 - accuracy: 0.9456 - val_loss: 0.1585 - val_accuracy: 0.9532\n",
      "Epoch 3/10\n",
      "469/469 [==============================] - 2s 4ms/step - loss: 0.1408 - accuracy: 0.9595 - val_loss: 0.1312 - val_accuracy: 0.9611\n",
      "Epoch 4/10\n",
      "469/469 [==============================] - 2s 4ms/step - loss: 0.1120 - accuracy: 0.9678 - val_loss: 0.1076 - val_accuracy: 0.9676\n",
      "Epoch 5/10\n",
      "469/469 [==============================] - 2s 4ms/step - loss: 0.0919 - accuracy: 0.9732 - val_loss: 0.1025 - val_accuracy: 0.9684\n",
      "Epoch 6/10\n",
      "469/469 [==============================] - 2s 4ms/step - loss: 0.0766 - accuracy: 0.9785 - val_loss: 0.0875 - val_accuracy: 0.9732\n",
      "Epoch 7/10\n",
      "469/469 [==============================] - 2s 4ms/step - loss: 0.0656 - accuracy: 0.9817 - val_loss: 0.0867 - val_accuracy: 0.9716\n",
      "Epoch 8/10\n",
      "469/469 [==============================] - 2s 4ms/step - loss: 0.0560 - accuracy: 0.9844 - val_loss: 0.0786 - val_accuracy: 0.9747\n",
      "Epoch 9/10\n",
      "469/469 [==============================] - 2s 4ms/step - loss: 0.0487 - accuracy: 0.9865 - val_loss: 0.0725 - val_accuracy: 0.9769\n",
      "Epoch 10/10\n",
      "469/469 [==============================] - 2s 4ms/step - loss: 0.0422 - accuracy: 0.9887 - val_loss: 0.0679 - val_accuracy: 0.9790\n",
      "Test loss: 0.06790079176425934, Test accuracy 0.9789999723434448\n",
      "[*] Training with 1e-05 decay\n",
      "Epoch 1/10\n",
      "469/469 [==============================] - 2s 4ms/step - loss: 0.4122 - accuracy: 0.8881 - val_loss: 0.2374 - val_accuracy: 0.9324\n",
      "Epoch 2/10\n",
      "469/469 [==============================] - 2s 4ms/step - loss: 0.1997 - accuracy: 0.9458 - val_loss: 0.1727 - val_accuracy: 0.9517\n",
      "Epoch 3/10\n",
      "469/469 [==============================] - 2s 4ms/step - loss: 0.1501 - accuracy: 0.9603 - val_loss: 0.1307 - val_accuracy: 0.9646\n",
      "Epoch 4/10\n",
      "469/469 [==============================] - 2s 4ms/step - loss: 0.1195 - accuracy: 0.9683 - val_loss: 0.1270 - val_accuracy: 0.9635\n",
      "Epoch 5/10\n",
      "469/469 [==============================] - 2s 4ms/step - loss: 0.0997 - accuracy: 0.9744 - val_loss: 0.1058 - val_accuracy: 0.9717\n",
      "Epoch 6/10\n",
      "469/469 [==============================] - 2s 4ms/step - loss: 0.0855 - accuracy: 0.9788 - val_loss: 0.0960 - val_accuracy: 0.9747\n",
      "Epoch 7/10\n",
      "469/469 [==============================] - 2s 4ms/step - loss: 0.0736 - accuracy: 0.9822 - val_loss: 0.0940 - val_accuracy: 0.9747\n",
      "Epoch 8/10\n",
      "469/469 [==============================] - 2s 4ms/step - loss: 0.0648 - accuracy: 0.9846 - val_loss: 0.0840 - val_accuracy: 0.9772\n",
      "Epoch 9/10\n",
      "469/469 [==============================] - 2s 4ms/step - loss: 0.0574 - accuracy: 0.9869 - val_loss: 0.0828 - val_accuracy: 0.9778\n",
      "Epoch 10/10\n",
      "469/469 [==============================] - 2s 4ms/step - loss: 0.0512 - accuracy: 0.9887 - val_loss: 0.0790 - val_accuracy: 0.9790\n",
      "Test loss: 0.07897189259529114, Test accuracy 0.9789999723434448\n",
      "[*] Training with 0.001 decay\n",
      "Epoch 1/10\n",
      "469/469 [==============================] - 2s 4ms/step - loss: 1.3225 - accuracy: 0.8885 - val_loss: 1.0696 - val_accuracy: 0.9359\n",
      "Epoch 2/10\n",
      "469/469 [==============================] - 2s 4ms/step - loss: 0.9798 - accuracy: 0.9426 - val_loss: 0.8797 - val_accuracy: 0.9533\n",
      "Epoch 3/10\n",
      "469/469 [==============================] - 2s 4ms/step - loss: 0.8131 - accuracy: 0.9567 - val_loss: 0.7606 - val_accuracy: 0.9524\n",
      "Epoch 4/10\n",
      "469/469 [==============================] - 2s 4ms/step - loss: 0.6871 - accuracy: 0.9648 - val_loss: 0.6398 - val_accuracy: 0.9647\n",
      "Epoch 5/10\n",
      "469/469 [==============================] - 2s 4ms/step - loss: 0.5866 - accuracy: 0.9700 - val_loss: 0.5631 - val_accuracy: 0.9641\n",
      "Epoch 6/10\n",
      "469/469 [==============================] - 2s 4ms/step - loss: 0.5044 - accuracy: 0.9745 - val_loss: 0.4777 - val_accuracy: 0.9717\n",
      "Epoch 7/10\n",
      "469/469 [==============================] - 2s 4ms/step - loss: 0.4374 - accuracy: 0.9772 - val_loss: 0.4240 - val_accuracy: 0.9720\n",
      "Epoch 8/10\n",
      "469/469 [==============================] - 2s 4ms/step - loss: 0.3815 - accuracy: 0.9801 - val_loss: 0.3780 - val_accuracy: 0.9717\n",
      "Epoch 9/10\n",
      "469/469 [==============================] - 2s 4ms/step - loss: 0.3366 - accuracy: 0.9807 - val_loss: 0.3303 - val_accuracy: 0.9746\n",
      "Epoch 10/10\n",
      "469/469 [==============================] - 2s 4ms/step - loss: 0.2982 - accuracy: 0.9824 - val_loss: 0.2966 - val_accuracy: 0.9774\n",
      "Test loss: 0.29662391543388367, Test accuracy 0.977400004863739\n"
     ]
    }
   ],
   "source": [
    "# train for 3 regularization\n",
    "decays = [0.000001, 0.00001, 0.001]\n",
    "info = []\n",
    "for i in decays:\n",
    "  print(\"[*] Training with {} decay\".format(i))\n",
    "  info.append(train_using_decay(i))\n",
    "\n"
   ]
  },
  {
   "cell_type": "code",
   "execution_count": 7,
   "metadata": {
    "colab": {
     "base_uri": "https://localhost:8080/"
    },
    "id": "DJRGXKVtIob6",
    "outputId": "c7af429e-412f-4808-b686-49ccbf139aa1"
   },
   "outputs": [
    {
     "ename": "NameError",
     "evalue": "name 'hist' is not defined",
     "output_type": "error",
     "traceback": [
      "\u001b[0;31m---------------------------------------------------------------------------\u001b[0m",
      "\u001b[0;31mNameError\u001b[0m                                 Traceback (most recent call last)",
      "\u001b[0;32m<ipython-input-7-386b502746aa>\u001b[0m in \u001b[0;36m<module>\u001b[0;34m\u001b[0m\n\u001b[0;32m----> 1\u001b[0;31m \u001b[0mhist\u001b[0m\u001b[0;34m.\u001b[0m\u001b[0mhistory\u001b[0m\u001b[0;34m[\u001b[0m\u001b[0;34m'val_accuracy'\u001b[0m\u001b[0;34m]\u001b[0m\u001b[0;34m\u001b[0m\u001b[0;34m\u001b[0m\u001b[0m\n\u001b[0m",
      "\u001b[0;31mNameError\u001b[0m: name 'hist' is not defined"
     ]
    }
   ],
   "source": [
    "hist.history['val_accuracy']"
   ]
  },
  {
   "cell_type": "code",
   "execution_count": null,
   "metadata": {
    "colab": {
     "base_uri": "https://localhost:8080/",
     "height": 625
    },
    "id": "I7LqkPakEakN",
    "outputId": "3e1f97e4-c762-4d65-ecb1-e2227a7fe37a"
   },
   "outputs": [],
   "source": [
    "#  Plot the final validation accuracy with standard deviation (computed from the replicates) as a function of the regularization factor\n",
    "i = 0\n",
    "\n",
    "x = []\n",
    "y_mean_acc = []\n",
    "y_std_acc = []\n",
    "y_acc = []\n",
    "for hist in info:\n",
    "  x.append(decays[i])\n",
    "  y_mean_acc.append(np.mean(hist.history['val_accuracy'])) # get the mean accuracy of the model\n",
    "  y_std_acc.append(np.std(hist.history['val_accuracy']))   # get the std of the acc\n",
    "  y_acc.append(hist.history['val_accuracy'][-1])\n",
    "  i+=1\n",
    "\n",
    "print(y_acc)\n",
    "print(y_mean_acc)\n",
    "print(y_std_acc)\n",
    "plt.plot(x, y_mean_acc)\n",
    "plt.plot(x, y_acc)\n",
    "#plt.plot(x, y_std_acc)\n",
    "plt.legend(['Mean Test Accuracy', 'Final Accuracy', 'Std Test Accuracy {}'])\n",
    "plt.title(\"Accuracy with decays of {} {} {}\".format(decays[0], decays[1], decays[2]))\n",
    "plt.xlabel(\"Decays\")\n",
    "plt.ylabel(\"Accuracy\")\n",
    "plt.show()\n",
    "\n",
    "plt.plot(x, y_std_acc)\n",
    "plt.title(\"Std of Accuracy with decays of {} {} {}\".format(decays[0], decays[1], decays[2]))\n",
    "plt.xlabel(\"Decays\")\n",
    "plt.ylabel(\"Std Accuracy\")\n",
    "plt.show()\n",
    "\n"
   ]
  },
  {
   "cell_type": "code",
   "execution_count": null,
   "metadata": {
    "colab": {
     "base_uri": "https://localhost:8080/",
     "height": 591
    },
    "id": "SmONPEkW5EVS",
    "outputId": "2f897c22-c073-42ee-d9be-fd3b52e9e2cb"
   },
   "outputs": [],
   "source": [
    "# Plot Accuracy of first model \n",
    "\n",
    "# list all data in history\n",
    "print(fit_info.history.keys())\n",
    "# summarize history for accuracy\n",
    "plt.plot(fit_info.history['accuracy'])\n",
    "plt.plot(fit_info.history['val_accuracy'])\n",
    "plt.title('model v2 accuracy with 40 epochs')\n",
    "plt.ylabel('accuracy')\n",
    "plt.xlabel('epoch')\n",
    "plt.legend(['train', 'test'], loc='upper left')\n",
    "plt.show()\n",
    "# summarize history for loss\n",
    "plt.plot(fit_info.history['loss'])\n",
    "plt.plot(fit_info.history['val_loss'])\n",
    "plt.title('model v2 loss with 40 epochs')\n",
    "plt.ylabel('loss')\n",
    "plt.xlabel('epoch')\n",
    "plt.legend(['train', 'test'], loc='upper left')\n",
    "plt.show()"
   ]
  },
  {
   "cell_type": "markdown",
   "metadata": {
    "id": "GsBMe3WhR1XQ"
   },
   "source": [
    "### Question 3) ConvNet"
   ]
  },
  {
   "cell_type": "code",
   "execution_count": null,
   "metadata": {
    "colab": {
     "base_uri": "https://localhost:8080/"
    },
    "id": "UZxLiPHaTI-6",
    "outputId": "718522ac-7773-49c2-eddd-70d2a9bf185f"
   },
   "outputs": [],
   "source": []
  },
  {
   "cell_type": "code",
   "execution_count": null,
   "metadata": {
    "id": "Q3DFpCnIR_QP"
   },
   "outputs": [],
   "source": [
    "\n",
    "## Define model ##\n",
    "\n",
    "def train_conv():\n",
    "  model = Sequential()\n",
    "\n",
    "  #model.add(Flatten())\n",
    "  # Multiple Conv2D layer \n",
    "  model.add(Conv2D(32, kernel_size=3, padding=\"valid\", input_shape=(28, 28, 1), activation = 'relu')),\n",
    "  model.add(MaxPooling2D(pool_size=(2, 2), strides=(1, 1))),\n",
    "  model.add(Conv2D(64, kernel_size=3, padding=\"valid\", activation = 'relu')),\n",
    "  model.add(MaxPooling2D(pool_size=(2, 2), strides=(1, 1))),\n",
    "  model.add(Conv2D(100, kernel_size=3, padding=\"valid\", activation = 'relu')),\n",
    "  model.add(MaxPooling2D(pool_size=(2, 2), strides=(1, 1))),\n",
    "  model.add(Flatten()),\n",
    "  model.add(Dense(200, activation='relu')),\n",
    "  model.add(Dense(num_classes, activation='softmax'))\n",
    "\n",
    "  model.compile(loss=keras.losses.categorical_crossentropy,\n",
    "                optimizer=\"adam\",\n",
    "          metrics=['accuracy'],)\n",
    "\n",
    "  fit_info = model.fit(x_train, y_train,\n",
    "            batch_size=batch_size,\n",
    "            epochs=10,\n",
    "            verbose=1,\n",
    "            validation_data=(x_test, y_test))\n",
    "  score = model.evaluate(x_test, y_test, verbose=0)\n",
    "  print('Test loss: {}, Test accuracy {}'.format(score[0], score[1]))\n",
    "  return fit_info\n",
    "\n"
   ]
  },
  {
   "cell_type": "code",
   "execution_count": null,
   "metadata": {
    "colab": {
     "base_uri": "https://localhost:8080/"
    },
    "id": "Ka6ktKggSjcb",
    "outputId": "bddd1dc1-27c3-4d32-de8c-752703131e03"
   },
   "outputs": [],
   "source": [
    "train_conv()"
   ]
  },
  {
   "cell_type": "markdown",
   "metadata": {
    "id": "0I2Bkk_rhUnH"
   },
   "source": [
    "### Question 4) Auto-Encoder for denoising\n"
   ]
  },
  {
   "cell_type": "code",
   "execution_count": null,
   "metadata": {
    "id": "yO0HxKeJ7WFw"
   },
   "outputs": [],
   "source": [
    "import numpy as np\n",
    "def salt_and_pepper(input, noise_level=0.5):\n",
    "    \"\"\"\n",
    "    This applies salt and pepper noise to the input tensor - randomly setting bits to 1 or 0.\n",
    "    Parameters\n",
    "    ----------\n",
    "    input : tensor\n",
    "        The tensor to apply salt and pepper noise to.\n",
    "    noise_level : float\n",
    "        The amount of salt and pepper noise to add.\n",
    "    Returns\n",
    "    -------\n",
    "    tensor\n",
    "        Tensor with salt and pepper noise applied.\n",
    "    \"\"\"\n",
    "    # salt and pepper noise\n",
    "    a = np.random.binomial(size=input.shape, n=1, p=(1 - noise_level))\n",
    "    b = np.random.binomial(size=input.shape, n=1, p=0.5)\n",
    "    c = (a==0) * b\n",
    "    return input * a + c\n",
    "\n",
    "\n",
    "#data preparation\n",
    "flattened_x_train = x_train.reshape(-1,784)\n",
    "flattened_x_train_seasoned = salt_and_pepper(flattened_x_train, noise_level=0.4)\n",
    "\n",
    "flattened_x_test = x_test.reshape(-1,784)\n",
    "flattened_x_test_seasoneed = salt_and_pepper(flattened_x_test, noise_level=0.4)\n"
   ]
  },
  {
   "cell_type": "code",
   "execution_count": null,
   "metadata": {
    "id": "0GZtZH4ScQeN"
   },
   "outputs": [],
   "source": [
    "\n",
    "latent_dim = 96  \n",
    "\n",
    "input_image = keras.Input(shape=(784,))\n",
    "encoded = Dense(128, activation='relu')(input_image)\n",
    "encoded = Dense(latent_dim, activation='relu')(encoded)\n",
    "decoded = Dense(128, activation='relu')(encoded)\n",
    "decoded = Dense(784, activation='sigmoid')(decoded)\n",
    "\n",
    "autoencoder = keras.Model(input_image, decoded)\n",
    "encoder_only = keras.Model(input_image, encoded)\n",
    "\n",
    "encoded_input = keras.Input(shape=(latent_dim,))\n",
    "decoder_layer = Sequential(autoencoder.layers[-2:])\n",
    "decoder = keras.Model(encoded_input, decoder_layer(encoded_input))\n",
    "\n",
    "autoencoder.compile(optimizer='adam', loss='binary_crossentropy')"
   ]
  },
  {
   "cell_type": "code",
   "execution_count": null,
   "metadata": {
    "colab": {
     "base_uri": "https://localhost:8080/"
    },
    "id": "56iJOKNIKfuB",
    "outputId": "80aea902-899b-47c9-8f7e-b6998ba5d275"
   },
   "outputs": [],
   "source": [
    "fit_info_AE = autoencoder.fit(flattened_x_train_seasoned, flattened_x_train,\n",
    "                epochs=32,\n",
    "                batch_size=64,\n",
    "                shuffle=True,\n",
    "                validation_data=(flattened_x_test_seasoneed, flattened_x_test))\n"
   ]
  },
  {
   "cell_type": "code",
   "execution_count": null,
   "metadata": {
    "colab": {
     "base_uri": "https://localhost:8080/",
     "height": 312
    },
    "id": "0Mr8NGwJ95Sf",
    "outputId": "2c8ee785-fb4f-4437-8710-ef673f2b45b9"
   },
   "outputs": [],
   "source": [
    "# Plot Accuracy of first model \n",
    "\n",
    "# list all data in history\n",
    "print(fit_info_AE.history.keys())\n",
    "\n",
    "# summarize history for loss\n",
    "plt.plot(fit_info_AE.history['loss'])\n",
    "plt.plot(fit_info_AE.history['val_loss'])\n",
    "plt.title('autoencoder model loss with 40 epochs')\n",
    "plt.ylabel('loss')\n",
    "plt.xlabel('epoch')\n",
    "plt.legend(['train', 'test'], loc='upper left')\n",
    "plt.show()"
   ]
  },
  {
   "cell_type": "code",
   "execution_count": null,
   "metadata": {
    "colab": {
     "base_uri": "https://localhost:8080/",
     "height": 1000
    },
    "id": "aVYDutjsXBaq",
    "outputId": "9e813128-a198-4846-803d-fcf9fecff594"
   },
   "outputs": [],
   "source": [
    "noise_levels = [0,0.1,0.2,0.3,0.4,0.5,0.6,0.7,0.8,0.9,1] # Different noise levels \n",
    "rows = 6 # Example numbers * 2\n",
    "columns = len(noise_levels) # Noise levels\n",
    "\n",
    "# Plot data\n",
    "f, ax = plt.subplots(nrows = rows, ncols = columns, figsize = (30,30)) \n",
    "for row in range(rows):\n",
    "    for column in range(columns):\n",
    "        # Salt & pepper images\n",
    "        ax[0,column].imshow(tf.reshape(salt_and_pepper(flattened_x_train[0].reshape(1,-1), noise_level = noise_levels[column]),(28,28)), cmap='gray')\n",
    "        ax[0,column].set_title('Noise = ' + str(noise_levels[column]))\n",
    "        ax[2,column].imshow(tf.reshape(salt_and_pepper(flattened_x_train[1].reshape(1,-1), noise_level = noise_levels[column]),(28,28)), cmap='gray')\n",
    "        ax[2,column].set_title('Noise = ' + str(noise_levels[column]))\n",
    "        ax[4,column].imshow(tf.reshape(salt_and_pepper(flattened_x_train[2].reshape(1,-1), noise_level = noise_levels[column]),(28,28)), cmap='gray')\n",
    "        ax[4,column].set_title('Noise = ' + str(noise_levels[column]))\n",
    "    \n",
    "        # Autoencoded image\n",
    "        ax[1,column].imshow(tf.reshape(autoencoder(salt_and_pepper(flattened_x_train[0].reshape(1,-1),noise_level = noise_levels[column])), shape = (28,28)), cmap='gray')\n",
    "        ax[3,column].imshow(tf.reshape(autoencoder(salt_and_pepper(flattened_x_train[1].reshape(1,-1),noise_level = noise_levels[column])), shape = (28,28)), cmap='gray')\n",
    "        ax[5,column].imshow(tf.reshape(autoencoder(salt_and_pepper(flattened_x_train[2].reshape(1,-1),noise_level = noise_levels[column])), shape = (28,28)), cmap='gray')\n",
    "    \n",
    "plt.show()"
   ]
  },
  {
   "cell_type": "code",
   "execution_count": null,
   "metadata": {
    "colab": {
     "base_uri": "https://localhost:8080/",
     "height": 236
    },
    "id": "DScinec65d-6",
    "outputId": "39035a2d-475d-42c0-e89d-e233cc00af65"
   },
   "outputs": [],
   "source": [
    "autoencoder_accuracies = []\n",
    "seasoned_accuracies = []\n",
    "\n",
    "for column in range(columns):\n",
    "\n",
    "    autoencoded_x_test = tf.reshape(autoencoder(salt_and_pepper(flattened_x_test, noise_level = noise_levels[column])), (10000,28,28,1))\n",
    "    autoencoder_accuracies.append(model.evaluate(autoencoded_x_test, y_test, verbose=0))\n",
    "    \n",
    "    seasoned_x_test = tf.reshape(salt_and_pepper(flattened_x_test, noise_level = noise_levels[column]), (10000,28,28,1))\n",
    "    autoencoder_accuracies.append(model.evaluate(seasoned_x, y_test, verbose=0))\n",
    "    \n",
    "plt.plot(noise_levels, autoencoded_accs, label=\"Denoised input\")\n",
    "plt.plot(noise_levels, seasoned_accs, label=\"Seasoned input\")\n",
    "plt.title(\"Model accuracy for original & noised inputs\")\n",
    "plt.legend()\n",
    "plt.ylabel(\"acc\")\n",
    "plt.xlabel(\"noise_level\")\n",
    "plt.show()"
   ]
  },
  {
   "cell_type": "code",
   "execution_count": null,
   "metadata": {},
   "outputs": [],
   "source": [
    "encoded = encoder_only.predict(flattened_x_test)\n",
    "decoded = decoder.predict(encoded)\n",
    "decoded = decoded.reshape(decoded.shape[0], 28, 28)\n",
    "\n",
    "def generate_digit(model, digit, decoded_img, threshold=0.99):\n",
    "    np.random.shuffle(decoded_img)\n",
    "    for img in decoded_img:\n",
    "    \n",
    "        imgreshape = img.reshape(28, 28, 1)\n",
    "        \n",
    "        predictions = model.predict(imgreshape)\n",
    "        maxIndex = np.argmax(predictions)\n",
    "        maxAcc = predictions[0, maxIndex]\n",
    "    \n",
    "        if (maxIndex == digit) and (maxAcc >= threshold):\n",
    "            return img\n",
    "\n",
    "plt.imshow(generate_digit(model, 4, decoded),  cmap='gray')\n",
    "plt.show()"
   ]
  }
 ],
 "metadata": {
  "colab": {
   "collapsed_sections": [],
   "name": "Assignment_7_NN.ipynb",
   "provenance": []
  },
  "kernelspec": {
   "display_name": "Python 3",
   "language": "python",
   "name": "python3"
  },
  "language_info": {
   "codemirror_mode": {
    "name": "ipython",
    "version": 3
   },
   "file_extension": ".py",
   "mimetype": "text/x-python",
   "name": "python",
   "nbconvert_exporter": "python",
   "pygments_lexer": "ipython3",
   "version": "3.8.8"
  }
 },
 "nbformat": 4,
 "nbformat_minor": 1
}
